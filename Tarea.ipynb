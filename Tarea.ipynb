{
  "nbformat": 4,
  "nbformat_minor": 0,
  "metadata": {
    "colab": {
      "name": "Tarea.ipynb",
      "provenance": [],
      "collapsed_sections": [],
      "authorship_tag": "ABX9TyNrHeZPa4VhZAEsQk6jWxmN",
      "include_colab_link": true
    },
    "kernelspec": {
      "name": "python3",
      "display_name": "Python 3"
    },
    "language_info": {
      "name": "python"
    }
  },
  "cells": [
    {
      "cell_type": "markdown",
      "metadata": {
        "id": "view-in-github",
        "colab_type": "text"
      },
      "source": [
        "<a href=\"https://colab.research.google.com/github/USIS026920/Programacion-Computacional-III/blob/main/Tarea.ipynb\" target=\"_parent\"><img src=\"https://colab.research.google.com/assets/colab-badge.svg\" alt=\"Open In Colab\"/></a>"
      ]
    },
    {
      "cell_type": "markdown",
      "metadata": {
        "id": "9x5G41hzOWXH"
      },
      "source": [
        "# *Ejercicios de la tarea #1*"
      ]
    },
    {
      "cell_type": "code",
      "metadata": {
        "colab": {
          "base_uri": "https://localhost:8080/"
        },
        "id": "YnBa_sKqOgq9",
        "outputId": "ae104d2c-3e8c-4d95-dd9f-b1e7748bd36a"
      },
      "source": [
        "#Conversión de grados celsius a grados fahrenheit.\n",
        "def celtofrahen(celsius):\n",
        "  fahren = float(celsius * 9/5) + 32\n",
        "  return fahren\n",
        "\n",
        "print('\\033[4m\\033[1mCalcular Celsius a Fahrenheit:\\033[0m\\n') \n",
        "\n",
        "celsius = float(input('Ingrese la cantidad en grados celsius: '))\n",
        "\n",
        "print('\\033[4m\\033[1mLa conversión de ',celsius,' grados Celsius a grados Fahrenheit es: \\033[4m',celtofrahen(celsius),' °F\\033[4m')"
      ],
      "execution_count": null,
      "outputs": [
        {
          "output_type": "stream",
          "name": "stdout",
          "text": [
            "\u001b[4m\u001b[1mCalcular Celsius a Fahrenheit:\u001b[0m\n",
            "\n",
            "Ingrese la cantidad en grados celsius: 25\n",
            "\u001b[4m\u001b[1mLa conversión de  25.0  grados Celsius a grados Fahrenheit es: \u001b[4m 77.0  °F\u001b[4m\n"
          ]
        }
      ]
    },
    {
      "cell_type": "code",
      "metadata": {
        "colab": {
          "base_uri": "https://localhost:8080/"
        },
        "id": "PmzU3lk1PC5Z",
        "outputId": "9caebd56-ac6d-4a1a-cc9c-256c3e7bd142"
      },
      "source": [
        "#Calcular la edad.\n",
        "fechaNacimiento = int(input(\"Ingrese su año de nacimiento: \"))\n",
        "AnioActual = 2021\n",
        "Edad = AnioActual - fechaNacimiento\n",
        "print(\"Su edad es:\",Edad, \"años\")"
      ],
      "execution_count": null,
      "outputs": [
        {
          "output_type": "stream",
          "name": "stdout",
          "text": [
            "Ingrese su año de nacimiento: 2001\n",
            "Su edad es: 20 años\n"
          ]
        }
      ]
    },
    {
      "cell_type": "code",
      "metadata": {
        "colab": {
          "base_uri": "https://localhost:8080/"
        },
        "id": "1OLiqJBTP37a",
        "outputId": "a2f6b978-3b65-4f2e-9461-eddc8dee8901"
      },
      "source": [
        "#Calcular la nota final del ciclo.\n",
        "Notafinal = 0\n",
        "\n",
        "def Media(Plab, Slab, Par): \n",
        "  computo = Plab+Slab+Par\n",
        "  print('Nota para este computo: {0:.2f}'.format(computo)) \n",
        "  return computo\n",
        "\n",
        "print('\\033[4m\\033[1mCalcular la nota final del ciclo:\\033[0m\\n') \n",
        "\n",
        "for i in range(1,4): \n",
        "  print(f'\\033[1mComputo {i} \\033[0m')\n",
        "  Plab = float(input('Ingresa las notas de tu computo {x} \\nLaboratorio 1: '.format(x=i))) * 0.30 \n",
        "  Slab = float(input('Laboratorio 2: ')) * 0.30\n",
        "  Par = float(input('Examen Parcial: ')) * 0.40\n",
        "  Notafinal = Notafinal + Media(Plab, Slab, Par)\n",
        "  print() \n",
        "\n",
        "print('\\033[4m\\033[1mTu nota final en este ciclo es: {0:.2f}\\033[0m\\n'.format(Notafinal/3))"
      ],
      "execution_count": null,
      "outputs": [
        {
          "output_type": "stream",
          "name": "stdout",
          "text": [
            "\u001b[4m\u001b[1mCalcular la nota final del ciclo:\u001b[0m\n",
            "\n",
            "\u001b[1mComputo 1 \u001b[0m\n",
            "Ingresa las notas de tu computo 1 \n",
            "Laboratorio 1: 8\n",
            "Laboratorio 2: 8\n",
            "Examen Parcial: 8\n",
            "Nota para este computo: 8.00\n",
            "\n",
            "\u001b[1mComputo 2 \u001b[0m\n",
            "Ingresa las notas de tu computo 2 \n",
            "Laboratorio 1: 8\n",
            "Laboratorio 2: 8\n",
            "Examen Parcial: 8\n",
            "Nota para este computo: 8.00\n",
            "\n",
            "\u001b[1mComputo 3 \u001b[0m\n",
            "Ingresa las notas de tu computo 3 \n",
            "Laboratorio 1: 8\n",
            "Laboratorio 2: 8\n",
            "Examen Parcial: 8\n",
            "Nota para este computo: 8.00\n",
            "\n",
            "\u001b[4m\u001b[1mTu nota final en este ciclo es: 8.00\u001b[0m\n",
            "\n"
          ]
        }
      ]
    },
    {
      "cell_type": "markdown",
      "metadata": {
        "id": "owWYYecpQsLh"
      },
      "source": [
        "# *Ejercicios de la tarea #2 Usando Lambda*\n"
      ]
    },
    {
      "cell_type": "code",
      "metadata": {
        "colab": {
          "base_uri": "https://localhost:8080/"
        },
        "id": "F6EuKOZ2P31d",
        "outputId": "8f1e72e4-65d0-45d3-da80-f29d0b26f30c"
      },
      "source": [
        "#Conversión de grados celsius a grados fahrenheit usando lambda.\n",
        "\n",
        "fahrenheit = lambda celsius: (celsius * 9/5) + 32\n",
        "print('\\033[4m\\033[1mConvertir grados celd¿sius a grados fahrenheit\\033[0m\\n')\n",
        "celsius = float(input('Ingrese la cantidad en grados celsius: '))\n",
        "print('\\n\\033[1mLa conversión de',celsius,'grados celsius es:',fahrenheit(celsius),'°F\\033[0m')"
      ],
      "execution_count": null,
      "outputs": [
        {
          "output_type": "stream",
          "name": "stdout",
          "text": [
            "\u001b[4m\u001b[1mConvertir grados celd¿sius a grados fahrenheit\u001b[0m\n",
            "\n",
            "Ingrese la cantidad en grados celsius: 90\n",
            "\n",
            "\u001b[1mLa conversión de 90.0 grados celsius es: 194.0 °F\u001b[0m\n"
          ]
        }
      ]
    },
    {
      "cell_type": "code",
      "metadata": {
        "colab": {
          "base_uri": "https://localhost:8080/"
        },
        "id": "HLIPC016RBCi",
        "outputId": "fae3de69-e2f6-4bae-dbba-1f33b2adf8e0"
      },
      "source": [
        "#Calcular la fecha de nacimiento usando lambda\n",
        "\n",
        "edad = lambda fecha_que_nacio , fecha_año_actual : fecha_año_actual - fecha_que_nacio\n",
        "fecha_que_nacio = float ( input ( \"Ingrese año que nacio: \" ))\n",
        "fecha_año_actual = float ( input ( \"Ingrese año actual: \" ))\n",
        "print ( \"Su edad es:\"  , edad ( fecha_que_nacio , fecha_año_actual ))"
      ],
      "execution_count": null,
      "outputs": [
        {
          "output_type": "stream",
          "name": "stdout",
          "text": [
            "Ingrese año que nacio: 2001\n",
            "Ingrese año actual: 2021\n",
            "Su edad es: 20.0\n"
          ]
        }
      ]
    },
    {
      "cell_type": "code",
      "metadata": {
        "colab": {
          "base_uri": "https://localhost:8080/"
        },
        "id": "ZWm0cpxPU9xk",
        "outputId": "ce247ef7-0ea3-4013-91b9-1f213a99ebce"
      },
      "source": [
        "#Calcular la nota final usando lambda\n",
        "\n",
        "#Nota de ciclo final\n",
        "from functools import reduce\n",
        "computos = [[1,0,0],[2,0,0],[3,0,0]]\n",
        "notafinal = 0\n",
        "\n",
        "print('\\033[4m\\033[1mCalculando la nota final del ciclo:\\033[0m\\n') \n",
        "\n",
        "for computo in computos: \n",
        "  print(f'\\033[1mComputo {computo[0]} \\033[0m')\n",
        "  computo[0] = float(input('Laboratorio 1: ')) * 0.30 \n",
        "  computo[1] = float(input('Laboratorio 2: ')) * 0.30\n",
        "  computo[2] = float(input('Examen Parcial: ')) * 0.40\n",
        "  media = reduce(lambda n1,n2:n1+n2, computo) \n",
        "  print('La nota para este computo es: \\033[4m\\033[1m{0:.2f}\\033[0m'.format(media))\n",
        "  notafinal += media / 3\n",
        "  print()\n",
        "\n",
        "  if notafinal >= 6:\n",
        "    print('\\033[1;42m\\033[37m Felicidades aprobaste, tu nota final en este ciclo es: \\033[4m{0:.2f} \\033[0m'.format(notafinal))\n",
        "  else:\n",
        "    print('\\033[1;41m\\033[1;37m Lastima reprobaste, tu nota final en este ciclo es: \\033[4m{0:.2f} \\033[0m'.format(notafinal))"
      ],
      "execution_count": null,
      "outputs": [
        {
          "output_type": "stream",
          "name": "stdout",
          "text": [
            "\u001b[1mComputo 1 \u001b[0m\n",
            "Laboratorio 1: 8\n",
            "Laboratorio 2: 8\n",
            "Examen Parcial: 8\n",
            "La nota para este computo es: \u001b[4m\u001b[1m8.00\u001b[0m\n",
            "\n",
            "\u001b[1;41m\u001b[1;37m Lastima reprobaste, tu nota final en este ciclo es: \u001b[4m2.67 \u001b[0m\n",
            "\u001b[1mComputo 2 \u001b[0m\n",
            "Laboratorio 1: 8\n",
            "Laboratorio 2: 8\n",
            "Examen Parcial: 8\n",
            "La nota para este computo es: \u001b[4m\u001b[1m8.00\u001b[0m\n",
            "\n",
            "\u001b[1;41m\u001b[1;37m Lastima reprobaste, tu nota final en este ciclo es: \u001b[4m5.33 \u001b[0m\n",
            "\u001b[1mComputo 3 \u001b[0m\n",
            "Laboratorio 1: 8\n",
            "Laboratorio 2: 8\n",
            "Examen Parcial: 8\n",
            "La nota para este computo es: \u001b[4m\u001b[1m8.00\u001b[0m\n",
            "\n",
            "\u001b[1;42m\u001b[37m Felicidades aprobaste, tu nota final en este ciclo es: \u001b[4m8.00 \u001b[0m\n"
          ]
        }
      ]
    },
    {
      "cell_type": "markdown",
      "metadata": {
        "id": "9e12fAnCM7U9"
      },
      "source": [
        "# *Tarea de la semana #5*"
      ]
    },
    {
      "cell_type": "code",
      "metadata": {
        "colab": {
          "base_uri": "https://localhost:8080/"
        },
        "id": "9bqm-6L0NEwf",
        "outputId": "1c4d2cdd-a852-4ce4-e9ea-8cfe3b38154b"
      },
      "source": [
        "#Primer ejecicio de la tarea \n",
        "\n",
        "sueldo = float(input(\"Sueldo: \"))\n",
        "isss = sueldo * 0.03\n",
        "afp = sueldo * 0.0625\n",
        "sueldoNeto = sueldo - (isss + afp)\n",
        "\n",
        "tablaIsr = [\n",
        "            [0.01,    472.0,   0,    0    ],\n",
        "            [472.01,  895.24,  0.1, 17.67 ],\n",
        "            [895.25,  2038.10, 0.2, 60    ],\n",
        "            [2038.11, 99999,   0.3, 288.57]\n",
        "]\n",
        "isr = 0\n",
        "for tramo in tablaIsr:\n",
        "  if sueldoNeto>=tramo[0] and sueldo<=tramo[1]:\n",
        "    isr = (sueldoNeto - tramo[0])*tramo[2] + tramo[3]\n",
        "sueldoNeto -= isr   \n",
        "print (sueldo, \"\\033[1mDeduciones:\\033[0m\", (isss + afp + isr), \"\\033[1msueldo Neto:\\033[0m\", sueldoNeto) "
      ],
      "execution_count": null,
      "outputs": [
        {
          "output_type": "stream",
          "name": "stdout",
          "text": [
            "Sueldo: 500\n",
            "500.0 \u001b[1mDeduciones:\u001b[0m 46.25 \u001b[1msueldo Neto:\u001b[0m 453.75\n"
          ]
        }
      ]
    },
    {
      "cell_type": "code",
      "metadata": {
        "colab": {
          "base_uri": "https://localhost:8080/"
        },
        "id": "mjhG9lgUSMKv",
        "outputId": "94be9620-ccc5-48f8-c264-7dfed7ba5e0e"
      },
      "source": [
        "#Consumo de agua Ejercicio #2\n",
        "\n",
        "print('\\033[4m\\033[1mConsumo de agua:\\033[0m\\n') \n",
        "\n",
        "agua =int(input(\"Ingrese el consumo de agua: \"))\n",
        "valorFijo=6\n",
        "if agua<=18:\n",
        "  print(\"Su valor a cancelar es de 6 dolares\")\n",
        "elif agua<=28:\n",
        "    calculo=(agua-18)*0.45 + valorFijo\n",
        "    print(\"Su valor a cancelar es de:\", calculo, \"dolares\")\n",
        "elif agua>=29 and agua<=100:\n",
        "      calculo=(((agua-28)*0.65)+((28-18)*0.45) +valorFijo)\n",
        "      print(\"Su valor a cancelar es de: \", calculo,\"dolares\")"
      ],
      "execution_count": null,
      "outputs": [
        {
          "output_type": "stream",
          "name": "stdout",
          "text": [
            "\u001b[4m\u001b[1mConsumo de agua:\u001b[0m\n",
            "\n",
            "Ingrese el consumo de agua: 30\n",
            "Su valor a cancelar es de:  11.8 dolares\n"
          ]
        }
      ]
    },
    {
      "cell_type": "code",
      "metadata": {
        "colab": {
          "base_uri": "https://localhost:8080/"
        },
        "id": "epmbiswsNI1_",
        "outputId": "92a21db9-d14b-4fb2-c76a-ed3999991208"
      },
      "source": [
        "#Desarrolle la tabla de meses acumulados a n meses Ejercicio #3\n",
        "\n",
        "print('\\033[4m\\033[1mCalcular los meses acumulados:\\033[0m\\n') \n",
        "\n",
        "meses = int(input(\"Ingrese el número de meses: \"))\n",
        "acumulacion = 0.5*meses**2+0.5*meses\n",
        "print(\"\\033[1mLa acumulación es: \\033[0m\",acumulacion)"
      ],
      "execution_count": null,
      "outputs": [
        {
          "output_type": "stream",
          "name": "stdout",
          "text": [
            "\u001b[4m\u001b[1mCalcular los meses acumulados:\u001b[0m\n",
            "\n",
            "Ingrese el número de meses: 8\n",
            "\u001b[1mLa acumulación es: \u001b[0m 36.0\n"
          ]
        }
      ]
    },
    {
      "cell_type": "code",
      "metadata": {
        "colab": {
          "base_uri": "https://localhost:8080/"
        },
        "id": "fHCom3IyN8jc",
        "outputId": "c17b9750-ba98-459e-f044-8bf07666f83e"
      },
      "source": [
        "#TAREA DE CONVERSOR EJECICIO #4\n",
        "\n",
        "valores = [\n",
        "           [],\n",
        "           [0, 1, 0.85, 23.8, 35.11, 7.74, 8.75, 621.61, 109.81, 0.73, 97.57], #monedas\n",
        "           [0, 1, 100, 1000, 1e+6, 1e+9, 0.000621371, 1.09361, 39.3701, 3.28084, 0.000539957], #Longitud\n",
        "           [0, 1, 1000, 1e+6, 1e+9, 0.000984207, 0.00110231, 0.157473, 2.20462, 35.274, 0.001], #Masa\n",
        "           [0, 1, 0.001, 0.000976563, 1e-6, 9.5367e-7, 1e-9, 9.3132e-10, 1e-12, 9.0949e-13, 1e-15], #Almacenamiento\n",
        "           [0, 1, 1e+9, 1e+6, 1000, 0.0166667, 0.000277778, 1.1574e-5, 1.6534e-6, 3.8052e-7, 3.171e-8], #Tiempo\n",
        "           [0, 1, 0.264172, 1.05669, 2.11338, 4.16667, 33.814, 67.628, 202.884, 0.001, 1000], #Volumen\n",
        "           [0, 1, 1e-6, 3.861e-7, 1.19599, 10.7639, 1550, 1e-4, 0.000247105, 0.09, 0.03], #Area\n",
        "           [0, 1, 0.092903, 0.00014774656489, 0.00001317, 9.2903e-6, 0.111111, 0.1111, 9.29e+26, 0.0000929, 0.001858], #Manzana \n",
        "           [0, 1, 6768.34687, 0.015537924273, 6.288e-16, 0.06288, 974641.94928, 0.0006288, 0.000020369860692, 7.0252735108e-30, 15537.924273], #Tarea\n",
        "]\n",
        "etiquetas = [\n",
        "           [],\n",
        "           [\"1. Dolar\", \"2. Euro\", \"3. Lempira\",\"4. Cordobas\", \"5. Quetzalez\", \"6. Colon SV\", \"7. Colon CR\", \"8. Yen\", \"9. Esterlina\", \"10. Peso argentino\"],\n",
        "           [\"1. Metro\", \"2. Centimetro\", \"3. Milimetro\", \"4. micrometro\", \"5. Nanometro\", \"6. Milla\", \"7. Yarda\", \"8. Pulgada\", \"9. Pie\", \"10. Milla nautica\"],\n",
        "           [\"1. Kilogramo\", \"2. Gramo\", \"3. Miligramo\", \"4. Microgramo\", \"5. Tonelada larga\", \"6. Tonelada corta\", \"7. Stone\", \"8. Libra\", \"9. Onza\", \"10. Tonelada\"],\n",
        "           [\"1. Bit\", \"2. Kilobit\", \"3. Kibibit\", \"4. Megabit\", \"5. Mebibit\", \"6. Gigabit\", \"7. Gibibit\", \"8. Terabit\", \"9. Tebibit\", \"10. Petabit\"],\n",
        "           [\"1. Segundo\", \"2. Nanosegundo\", \"3. Microsegundo\", \"4. Milisegundo\", \"5. Minuto\", \"6. Hora\", \"7. Dia\", \"8. Semana\", \"9. Mes\", \"10. Año natural\"],\n",
        "           [\"1. Litro\", \"2. Galon estadounidense\", \"3. Cuarto estadounidense\", \"4. Pinta estadounidense\", \"5. Taza americana oficial\", \"6. Onza liquida estadounidense\", \"7. Cucharada estadounidense\", \"8. Cucharadita estadounidense\", \"9. Metro cubico\", \"10. Mililitro\"],\n",
        "           [\"1. Metro cuadrado\", \"2. Kilometro cuadrado\", \"3. Milla cuadrada\", \"4. Yarda cuadrada\", \"5. Pie cuadrado\", \"6. Pulgada cuadrada\", \"7. Hectarea\", \"8. Acre\", \"9. Cuadrado\", \"10. Rod cuadrado\"],\n",
        "           [\"1. Pie cuadrado\", \"2. Metro cuadrado\", \"3. Tareas\", \"4. Manzanas\", \"5. Hectarea\", \" 6. Yarda cuadrada\", \"7. Vara cuadrada\", \"8. Barn\", \"9. Decar\", \"10. Area\"],\n",
        "           [\"1. Metro cuadrado\", \"2. Pie cuadrado\", \"3. Cuadrados furlong\", \"4. Gigameter cuadrado\", \"5. Hectometro cuadrado\", \"6. Pulgada cuadrada\", \"7. Kilometro cuadrado\", \"8. Liga cuadrada\", \"9. Año luz cuadrado\", \"10. Enlace cuadrado\"],\n",
        "]\n",
        "def convertir(conversor, de, a, cantidad):\n",
        "  return valores[conversor][a]/valores[conversor][de] * cantidad\n",
        "\n",
        "print(\"\\033[4m\\033[1m*** MENU ***\\033[0m\")\n",
        "print(\"\\033[1m* 1. Monedas\\033[0m\")\n",
        "print(\"\\033[1m* 2. Longitud\\033[0m\")\n",
        "print(\"\\033[1m* 3. Masa\\033[0m\")\n",
        "print(\"\\033[1m* 4. Almacenamiento\\033[0m\")\n",
        "print(\"\\033[1m* 5. Tiempo\\033[0m\")\n",
        "print(\"\\033[1m* 6. Volumen\\033[0m\")\n",
        "print(\"\\033[1m* 7. Area\\033[0m\")\n",
        "print(\"\\033[1m* 8. Manzana\\033[0m\")\n",
        "print(\"\\033[1m* 9. Tarea\\033[0m\")\n",
        "conversor = int(input(\"Conversor: \"))\n",
        "\n",
        "print( etiquetas[conversor] )\n",
        "\n",
        "de = int(input(\"DE: \"))\n",
        "a = int(input(\"A: \"))\n",
        "cantidad = float(input(\"Cant: \"))\n",
        "\n",
        "print(\"\\033[1mRespuesta:\\033[0m\",convertir(conversor, de, a, cantidad) )"
      ],
      "execution_count": null,
      "outputs": [
        {
          "output_type": "stream",
          "name": "stdout",
          "text": [
            "\u001b[4m\u001b[1m*** MENU ***\u001b[0m\n",
            "\u001b[1m* 1. Monedas\u001b[0m\n",
            "\u001b[1m* 2. Longitud\u001b[0m\n",
            "\u001b[1m* 3. Masa\u001b[0m\n",
            "\u001b[1m* 4. Almacenamiento\u001b[0m\n",
            "\u001b[1m* 5. Tiempo\u001b[0m\n",
            "\u001b[1m* 6. Volumen\u001b[0m\n",
            "\u001b[1m* 7. Area\u001b[0m\n",
            "\u001b[1m* 8. Manzana\u001b[0m\n",
            "\u001b[1m* 9. Tarea\u001b[0m\n",
            "Conversor: 1\n",
            "['1. Dolar', '2. Euro', '3. Lempira', '4. Cordobas', '5. Quetzalez', '6. Colon SV', '7. Colon CR', '8. Yen', '9. Esterlina', '10. Peso argentino']\n",
            "DE: 1\n",
            "A: 1\n",
            "Cant: 100\n",
            "\u001b[1mRespuesta:\u001b[0m 100.0\n"
          ]
        }
      ]
    },
    {
      "cell_type": "code",
      "metadata": {
        "colab": {
          "base_uri": "https://localhost:8080/"
        },
        "id": "4hdRYZBQT0GQ",
        "outputId": "3c05c0a2-f480-48d6-c3a2-1c2cbeb29555"
      },
      "source": [
        "# Conversor propio Ejecicio #5\n",
        "\n",
        "valor=[\n",
        "       [],\n",
        "       [0, 1, 25,  0.0075 ],#caja\n",
        "       [0, 1, 50,  0.067 ],#saco\n",
        "       [0 ,1, 5,  0.059]\n",
        "]\n",
        "etiq=[\n",
        "      [],\n",
        "      [\"1. caja\",\"2.unidades \", \"3. cajas/unidades\"],\n",
        "      [\"1.saco\", \"2. libras\", \"3. sacos/libras\"],\n",
        "      [\"1. fardo\",\"2. unidades\", \"3. fardos/unidades\"]\n",
        "]\n",
        "def convertir(conversor, de, a, cantidad):\n",
        "  return valor[conversor][a]/valor[conversor][de] * cantidad\n",
        "\n",
        "\n",
        "print(\"\\033[4m\\033[1m***MENU***\\033[0m\\n\")\n",
        "print(\"1. Cajas\")\n",
        "print(\"2. saco\")\n",
        "print(\"3. fardo\")\n",
        "\n",
        "\n",
        "conversor = int(input(\"Conversor: \"))\n",
        "\n",
        "print( etiq[conversor] )\n",
        "\n",
        "de = int(input(\"DE: \"))\n",
        "a = int(input(\"A: \"))\n",
        "cantidad = float(input(\"Cantidad: \"))\n",
        "\n",
        "print(\"\\033[1mRespuesta: \\033[0m\", convertir(conversor, de, a, cantidad) )"
      ],
      "execution_count": null,
      "outputs": [
        {
          "output_type": "stream",
          "name": "stdout",
          "text": [
            "\u001b[4m\u001b[1m***MENU***\u001b[0m\n",
            "\n",
            "1. Cajas\n",
            "2. saco\n",
            "3. fardo\n",
            "Conversor: 1\n",
            "['1. caja', '2.unidades ', '3. cajas/unidades']\n",
            "DE: 2\n",
            "A: 1\n",
            "Cantidad: 25\n",
            "\u001b[1mRespuesta: \u001b[0m 1.0\n"
          ]
        }
      ]
    }
  ]
}